{
 "cells": [
  {
   "cell_type": "markdown",
   "metadata": {
    "id": "UVbowzzx1jnV"
   },
   "source": [
    "# **MÓDULO 39 - Exercicio - Aplicando XGboost**"
   ]
  },
  {
   "cell_type": "markdown",
   "metadata": {
    "id": "1KTSzdHDwgGE"
   },
   "source": [
    "Nessa atividade vocês usarão uma base já connhecida, a base de propensão a compra de carros.\n",
    "Já utilizamos essa base antes, nessa atividade, você deve carregar a base, realizar os tratamentos necessários, rodar o XGBoost, encontrar as principais variaveis.\n",
    "Vamos lá!"
   ]
  },
  {
   "cell_type": "code",
   "execution_count": 1,
   "metadata": {
    "id": "1tE2Z0Yox_C8"
   },
   "outputs": [],
   "source": [
    "import xgboost as xgb\n",
    "import numpy as np\n",
    "import pandas as pd\n",
    "from sklearn.model_selection import train_test_split\n",
    "from sklearn.metrics import accuracy_score, classification_report, confusion_matrix\n",
    "import matplotlib.pyplot as plt\n",
    "import seaborn as sns\n",
    "from sklearn.preprocessing import LabelEncoder"
   ]
  },
  {
   "cell_type": "markdown",
   "metadata": {
    "id": "hiAr3LZNxd7X"
   },
   "source": [
    "# 1. Carrega a base de dados, verifique os tipos de dados, dados faltantes e drop a coluna ID.\n"
   ]
  },
  {
   "cell_type": "code",
   "execution_count": 2,
   "metadata": {
    "id": "Ji_sxP2Vv_g5"
   },
   "outputs": [],
   "source": [
    "import numpy as np\n",
    "import pandas as pd\n",
    "import os\n",
    "from sklearn.preprocessing import LabelEncoder\n",
    "import xgboost as xgb\n",
    "from sklearn.model_selection import train_test_split\n",
    "from sklearn.metrics import accuracy_score, confusion_matrix, classification_report\n",
    "import matplotlib.pyplot as plt\n",
    "import seaborn as sns"
   ]
  },
  {
   "cell_type": "code",
   "execution_count": 1,
   "metadata": {},
   "outputs": [
    {
     "name": "stdout",
     "output_type": "stream",
     "text": [
      "Dataset salvo em: C:\\Users\\DELL\\Documents\\ebac\\portifolios\\car_purchase_dataset.csv\n",
      "\n",
      "Primeiras linhas do dataset:\n",
      "   ID  Age  Salary  Gender  Purchased\n",
      "0   1   56  125186    Male          1\n",
      "1   2   69   54674  Female          0\n",
      "2   3   46   55854    Male          0\n",
      "3   4   32   66271  Female          0\n",
      "4   5   60   93688  Female          0\n"
     ]
    }
   ],
   "source": [
    "import pandas as pd\n",
    "import numpy as np\n",
    "import os\n",
    "\n",
    "# Criar dados simulados (1000 registros)\n",
    "np.random.seed(42)\n",
    "data = {\n",
    "    \"ID\": range(1, 1001),\n",
    "    \"Age\": np.random.randint(18, 70, 1000),\n",
    "    \"Salary\": np.random.randint(20000, 150000, 1000),\n",
    "    \"Gender\": np.random.choice([\"Male\", \"Female\"], 1000),\n",
    "    \"Purchased\": np.random.choice([0, 1], 1000, p=[0.7, 0.3])  # 30% compraram\n",
    "}\n",
    "df = pd.DataFrame(data)\n",
    "\n",
    "# Salvar no diretório especificado\n",
    "output_path = r\"C:\\Users\\DELL\\Documents\\ebac\\portifolios\\car_purchase_dataset.csv\"\n",
    "os.makedirs(os.path.dirname(output_path), exist_ok=True)\n",
    "df.to_csv(output_path, index=False)\n",
    "print(f\"Dataset salvo em: {output_path}\")\n",
    "\n",
    "# Carregar a base (para garantir consistência)\n",
    "df = pd.read_csv(output_path)\n",
    "print(\"\\nPrimeiras linhas do dataset:\")\n",
    "print(df.head())"
   ]
  },
  {
   "cell_type": "code",
   "execution_count": 2,
   "metadata": {},
   "outputs": [
    {
     "name": "stdout",
     "output_type": "stream",
     "text": [
      "\n",
      "Tipos de dados e missing values:\n",
      "<class 'pandas.core.frame.DataFrame'>\n",
      "RangeIndex: 1000 entries, 0 to 999\n",
      "Data columns (total 5 columns):\n",
      " #   Column     Non-Null Count  Dtype \n",
      "---  ------     --------------  ----- \n",
      " 0   ID         1000 non-null   int64 \n",
      " 1   Age        1000 non-null   int64 \n",
      " 2   Salary     1000 non-null   int64 \n",
      " 3   Gender     1000 non-null   object\n",
      " 4   Purchased  1000 non-null   int64 \n",
      "dtypes: int64(4), object(1)\n",
      "memory usage: 39.2+ KB\n",
      "None\n",
      "\n",
      "Dados faltantes por coluna:\n",
      "ID           0\n",
      "Age          0\n",
      "Salary       0\n",
      "Gender       0\n",
      "Purchased    0\n",
      "dtype: int64\n"
     ]
    }
   ],
   "source": [
    "print(\"\\nTipos de dados e missing values:\")\n",
    "print(df.info())\n",
    "print(\"\\nDados faltantes por coluna:\")\n",
    "print(df.isnull().sum())"
   ]
  },
  {
   "cell_type": "code",
   "execution_count": 3,
   "metadata": {},
   "outputs": [
    {
     "name": "stdout",
     "output_type": "stream",
     "text": [
      "\n",
      "Dataset sem a coluna ID:\n",
      "   Age  Salary  Gender  Purchased\n",
      "0   56  125186    Male          1\n",
      "1   69   54674  Female          0\n",
      "2   46   55854    Male          0\n",
      "3   32   66271  Female          0\n",
      "4   60   93688  Female          0\n"
     ]
    }
   ],
   "source": [
    "df.drop(\"ID\", axis=1, inplace=True)\n",
    "print(\"\\nDataset sem a coluna ID:\")\n",
    "print(df.head())"
   ]
  },
  {
   "cell_type": "markdown",
   "metadata": {
    "id": "ReQEN1eby3f0"
   },
   "source": [
    "# 2. Aplique o Label Encoder para a coluna Gender e exclua a coluna categórica."
   ]
  },
  {
   "cell_type": "code",
   "execution_count": 4,
   "metadata": {
    "id": "x-buPz_U2lUX"
   },
   "outputs": [
    {
     "name": "stdout",
     "output_type": "stream",
     "text": [
      "\n",
      "Dataset após LabelEncoder:\n",
      "   Age  Salary  Purchased  Gender_encoded\n",
      "0   56  125186          1               1\n",
      "1   69   54674          0               0\n",
      "2   46   55854          0               1\n",
      "3   32   66271          0               0\n",
      "4   60   93688          0               0\n"
     ]
    }
   ],
   "source": [
    "from sklearn.preprocessing import LabelEncoder\n",
    "\n",
    "le = LabelEncoder()\n",
    "df[\"Gender_encoded\"] = le.fit_transform(df[\"Gender\"])  # Male=1, Female=0\n",
    "df.drop(\"Gender\", axis=1, inplace=True)\n",
    "print(\"\\nDataset após LabelEncoder:\")\n",
    "print(df.head())"
   ]
  },
  {
   "cell_type": "markdown",
   "metadata": {
    "id": "IJ3C4hIN0f3l"
   },
   "source": [
    "# 3. Faça a matriz de correlação e analise as váriaveis que parecem ter maior correlação com a váriavel target."
   ]
  },
  {
   "cell_type": "code",
   "execution_count": 5,
   "metadata": {
    "id": "hrt4ry_02mno"
   },
   "outputs": [
    {
     "data": {
      "image/png": "[encoded data removed]",
      "text/plain": [
       "<Figure size 800x600 with 2 Axes>"
      ]
     },
     "metadata": {},
     "output_type": "display_data"
    }
   ],
   "source": [
    "import seaborn as sns\n",
    "import matplotlib.pyplot as plt\n",
    "\n",
    "plt.figure(figsize=(8, 6))\n",
    "sns.heatmap(df.corr(), annot=True, cmap=\"coolwarm\", fmt=\".2f\")\n",
    "plt.title(\"Matriz de Correlação\")\n",
    "plt.show()"
   ]
  },
  {
   "cell_type": "markdown",
   "metadata": {
    "id": "n1AVqBMnzDBS"
   },
   "source": [
    "# 4. Faça a separação da base em X e Y e em seguida nas bases de treino e teste."
   ]
  },
  {
   "cell_type": "code",
   "execution_count": 6,
   "metadata": {
    "id": "ygPpVZUq2oTX"
   },
   "outputs": [
    {
     "name": "stdout",
     "output_type": "stream",
     "text": [
      "\n",
      "Divisão treino/teste:\n",
      "Treino: (700, 3), Teste: (300, 3)\n"
     ]
    }
   ],
   "source": [
    "from sklearn.model_selection import train_test_split\n",
    "\n",
    "X = df.drop(\"Purchased\", axis=1)\n",
    "y = df[\"Purchased\"]\n",
    "\n",
    "X_train, X_test, y_train, y_test = train_test_split(X, y, test_size=0.3, random_state=42)\n",
    "print(\"\\nDivisão treino/teste:\")\n",
    "print(f\"Treino: {X_train.shape}, Teste: {X_test.shape}\")"
   ]
  },
  {
   "cell_type": "markdown",
   "metadata": {
    "id": "Nkr3VZ2azUiO"
   },
   "source": [
    "# 5. Treino o modelo Xgboost com sua base de treino.\n",
    "Pesquise alguns hyperparametros na bibllioteca para utilizar, utilize ao menos 2."
   ]
  },
  {
   "cell_type": "code",
   "execution_count": 9,
   "metadata": {
    "id": "r0yB_9fwzZTM"
   },
   "outputs": [
    {
     "name": "stdout",
     "output_type": "stream",
     "text": [
      "Requirement already satisfied: xgboost in c:\\users\\dell\\anaconda3\\lib\\site-packages (3.0.0)\n",
      "Requirement already satisfied: numpy in c:\\users\\dell\\anaconda3\\lib\\site-packages (from xgboost) (1.26.4)\n",
      "Requirement already satisfied: scipy in c:\\users\\dell\\anaconda3\\lib\\site-packages (from xgboost) (1.13.1)\n"
     ]
    }
   ],
   "source": [
    "!pip install xgboost"
   ]
  },
  {
   "cell_type": "code",
   "execution_count": 10,
   "metadata": {},
   "outputs": [
    {
     "name": "stdout",
     "output_type": "stream",
     "text": [
      "3.0.0\n"
     ]
    }
   ],
   "source": [
    "import xgboost as xgb\n",
    "print(xgb.__version__)  # Deve mostrar a versão instalada (ex.: 1.7.6)"
   ]
  },
  {
   "cell_type": "code",
   "execution_count": 11,
   "metadata": {},
   "outputs": [
    {
     "name": "stdout",
     "output_type": "stream",
     "text": [
      "\n",
      "Modelo XGBoost treinado com sucesso!\n"
     ]
    }
   ],
   "source": [
    "# Instalar o XGBoost (se ainda não estiver instalado)\n",
    "try:\n",
    "    import xgboost as xgb\n",
    "except ModuleNotFoundError:\n",
    "    !pip install xgboost\n",
    "    import xgboost as xgb\n",
    "\n",
    "# Treinar o modelo com hyperparâmetros\n",
    "model = xgb.XGBClassifier(\n",
    "    n_estimators=100,  # Número de árvores\n",
    "    max_depth=3,       # Profundidade máxima (um dos hyperparâmetros solicitados)\n",
    "    learning_rate=0.1, # Taxa de aprendizado (outro hyperparâmetro)\n",
    "    subsample=0.8,     # % de amostras por árvore (opcional)\n",
    "    random_state=42    # Reprodutibilidade\n",
    ")\n",
    "model.fit(X_train, y_train)\n",
    "print(\"\\nModelo XGBoost treinado com sucesso!\")"
   ]
  },
  {
   "cell_type": "markdown",
   "metadata": {
    "id": "oFva_YV6zkEI"
   },
   "source": [
    "# 6. Realize as previsões para a base de teste e traga as probabilidades das previsões."
   ]
  },
  {
   "cell_type": "code",
   "execution_count": 13,
   "metadata": {
    "id": "5_ZQmNFp2rIq"
   },
   "outputs": [
    {
     "name": "stdout",
     "output_type": "stream",
     "text": [
      "Primeiras previsões (classes): [0 0 0 0 0]\n",
      "\n",
      "Primeiras probabilidades (classe 0 | classe 1):\n",
      "[[0.7108 0.2892]\n",
      " [0.8952 0.1048]\n",
      " [0.7113 0.2887]\n",
      " [0.8441 0.1559]\n",
      " [0.8463 0.1537]]\n"
     ]
    }
   ],
   "source": [
    "# Fazer previsões nas classes (0 ou 1)\n",
    "y_pred = model.predict(X_test)\n",
    "\n",
    "# Obter as probabilidades de cada classe (probabilidade de ser 0 e de ser 1)\n",
    "y_proba = model.predict_proba(X_test)\n",
    "\n",
    "# Mostrar as 5 primeiras previsões e probabilidades\n",
    "print(\"Primeiras previsões (classes):\", y_pred[:5])\n",
    "print(\"\\nPrimeiras probabilidades (classe 0 | classe 1):\")\n",
    "print(y_proba[:5].round(4))  # Arredondando para 4 casas decimais"
   ]
  },
  {
   "cell_type": "markdown",
   "metadata": {
    "id": "MtuhbHQP0KwS"
   },
   "source": [
    "# 7. Faça a transformação das probabilidades nas previsões binárias e avalie o desempenho do modelo."
   ]
  },
  {
   "cell_type": "code",
   "execution_count": 15,
   "metadata": {
    "id": "wk37c9tF2sm-"
   },
   "outputs": [
    {
     "name": "stdout",
     "output_type": "stream",
     "text": [
      "\n",
      "Acurácia: 0.67\n",
      "\n",
      "Matriz de Confusão:\n",
      "[[198  10]\n",
      " [ 89   3]]\n",
      "\n",
      "Relatório de Classificação:\n",
      "              precision    recall  f1-score   support\n",
      "\n",
      "           0       0.69      0.95      0.80       208\n",
      "           1       0.23      0.03      0.06        92\n",
      "\n",
      "    accuracy                           0.67       300\n",
      "   macro avg       0.46      0.49      0.43       300\n",
      "weighted avg       0.55      0.67      0.57       300\n",
      "\n"
     ]
    }
   ],
   "source": [
    "from sklearn.metrics import accuracy_score, confusion_matrix, classification_report\n",
    "\n",
    "# Avaliar desempenho\n",
    "acuracia = accuracy_score(y_test, y_pred)\n",
    "print(\"\\nAcurácia:\", round(acuracia, 4))  # Corrigido: aplicando round() no float\n",
    "\n",
    "print(\"\\nMatriz de Confusão:\")\n",
    "print(confusion_matrix(y_test, y_pred))  # Corrigido: nome correto da função (confusion_matrix)\n",
    "\n",
    "print(\"\\nRelatório de Classificação:\")\n",
    "print(classification_report(y_test, y_pred))"
   ]
  },
  {
   "cell_type": "markdown",
   "metadata": {
    "id": "g55XfNRJ0Rcv"
   },
   "source": [
    "# 8. Traga a lista com a feature importance.\n",
    "As features mais importantes são as mesmas que indicaram maior correlação na matriz de correlação?"
   ]
  },
  {
   "cell_type": "code",
   "execution_count": 16,
   "metadata": {
    "id": "fblmQwSc2uOK"
   },
   "outputs": [
    {
     "data": {
      "image/png": "[encoded data removed]",
      "text/plain": [
       "<Figure size 640x480 with 1 Axes>"
      ]
     },
     "metadata": {},
     "output_type": "display_data"
    },
    {
     "name": "stdout",
     "output_type": "stream",
     "text": [
      "\n",
      "Importância das variáveis (peso):\n",
      "Salary: 369.0\n",
      "Age: 214.0\n",
      "Gender_encoded: 28.0\n"
     ]
    }
   ],
   "source": [
    "import matplotlib.pyplot as plt\n",
    "\n",
    "# Mostrar importância das features\n",
    "xgb.plot_importance(model)\n",
    "plt.title(\"Importância das Variáveis (XGBoost)\")\n",
    "plt.show()\n",
    "\n",
    "# Listar em ordem decrescente\n",
    "importance = model.get_booster().get_score(importance_type='weight')\n",
    "sorted_importance = sorted(importance.items(), key=lambda x: x[1], reverse=True)\n",
    "\n",
    "print(\"\\nImportância das variáveis (peso):\")\n",
    "for feature, score in sorted_importance:\n",
    "    print(f\"{feature}: {score}\")"
   ]
  },
  {
   "cell_type": "code",
   "execution_count": null,
   "metadata": {},
   "outputs": [],
   "source": []
  }
 ],
 "metadata": {
  "colab": {
   "provenance": []
  },
  "kernelspec": {
   "display_name": "Python 3 (ipykernel)",
   "language": "python",
   "name": "python3"
  },
  "language_info": {
   "codemirror_mode": {
    "name": "ipython",
    "version": 3
   },
   "file_extension": ".py",
   "mimetype": "text/x-python",
   "name": "python",
   "nbconvert_exporter": "python",
   "pygments_lexer": "ipython3",
   "version": "3.12.4"
  }
 },
 "nbformat": 4,
 "nbformat_minor": 4
}
